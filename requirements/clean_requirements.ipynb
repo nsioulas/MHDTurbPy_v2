{
 "cells": [
  {
   "cell_type": "code",
   "execution_count": null,
   "id": "ca4dd966-3c1f-4b27-98a2-85821a758a86",
   "metadata": {},
   "outputs": [],
   "source": [
    "def extract_libraries(input_file, output_file):\n",
    "    with open(input_file, 'r') as f:\n",
    "        lines = f.readlines()\n",
    "\n",
    "    library_names = []\n",
    "\n",
    "    for line in lines:\n",
    "        # Split by spaces, '@', and take the first item\n",
    "        name = line.split()[0].split('@')[0].strip()\n",
    "        if name:\n",
    "            library_names.append(name)\n",
    "\n",
    "    with open(output_file, 'w') as f:\n",
    "        for name in library_names:\n",
    "            f.write(name + '\\n')\n",
    "\n",
    "inp = \"/users/nokni/work/MHDTurbPy_v2/requirements/requirements.txt\"\n",
    "outp = \"/users/nokni/work/MHDTurbPy_v2/requirements/filtered_requirements.txt\"\n",
    "extract_libraries(inp, outp)\n"
   ]
  }
 ],
 "metadata": {
  "kernelspec": {
   "display_name": "Python 3 (ipykernel)",
   "language": "python",
   "name": "python3"
  },
  "language_info": {
   "codemirror_mode": {
    "name": "ipython",
    "version": 3
   },
   "file_extension": ".py",
   "mimetype": "text/x-python",
   "name": "python",
   "nbconvert_exporter": "python",
   "pygments_lexer": "ipython3",
   "version": "3.10.4"
  }
 },
 "nbformat": 4,
 "nbformat_minor": 5
}
